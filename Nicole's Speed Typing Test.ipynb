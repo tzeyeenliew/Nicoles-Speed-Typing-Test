{
 "cells": [
  {
   "cell_type": "code",
   "execution_count": 16,
   "id": "76945cc4",
   "metadata": {},
   "outputs": [],
   "source": [
    "import tkinter\n",
    "from timeit import default_timer as timer\n",
    "import random\n",
    "\n",
    "\n",
    "def speed_test():\n",
    "   speed_test_sentences = [\n",
    "       'Nicole likes sleeping after eating a heavy meal.',\n",
    "       'Nicole loves her cat very much, meow meow meow!'\n",
    "   ]\n",
    "\n",
    "   sentence = random.choice(speed_test_sentences)\n",
    "   start = timer()\n",
    "   main_window = tkinter.Tk()\n",
    "   main_window.geometry('600x400')\n",
    "\n",
    "   label_1 = tkinter.Label(main_window, text=sentence, font='times 20')\n",
    "   label_1.place(x=150, y=10)\n",
    "\n",
    "   label_2 = tkinter.Label(main_window, text='Start Typing', font='times 20')\n",
    "   label_2.place(x=10, y=50)\n",
    "\n",
    "   entry = tkinter.Entry(main_window)\n",
    "   entry.place(x=280, y=55)\n",
    "\n",
    "   def check_result():\n",
    "       if entry.get() == sentence:\n",
    "           end = timer()\n",
    "           label_3.configure(text=f'Time: {round((end-start), 4)}s')\n",
    "       else:\n",
    "           label_3.configure(text='Wrong Input')\n",
    "\n",
    "   button_1 = tkinter.Button(main_window, text='Done',\n",
    "                             command=check_result, width=12, bg='grey')\n",
    "   button_1.place(x=150, y=100)\n",
    "\n",
    "   button_2 = tkinter.Button(main_window, text='Try Again',\n",
    "                             command=speed_test, width=12, bg='grey')\n",
    "   button_2.place(x=250, y=100)\n",
    "\n",
    "   label_3 = tkinter.Label(main_window, text='', font='times 20')\n",
    "   label_3.place(x=10, y=300)\n",
    "\n",
    "   main_window.mainloop()\n",
    "\n",
    "\n",
    "if __name__ == '__main__':\n",
    "   speed_test()"
   ]
  },
  {
   "cell_type": "code",
   "execution_count": null,
   "id": "f5adfb75",
   "metadata": {},
   "outputs": [],
   "source": []
  }
 ],
 "metadata": {
  "kernelspec": {
   "display_name": "Python 3 (ipykernel)",
   "language": "python",
   "name": "python3"
  },
  "language_info": {
   "codemirror_mode": {
    "name": "ipython",
    "version": 3
   },
   "file_extension": ".py",
   "mimetype": "text/x-python",
   "name": "python",
   "nbconvert_exporter": "python",
   "pygments_lexer": "ipython3",
   "version": "3.9.13"
  }
 },
 "nbformat": 4,
 "nbformat_minor": 5
}
